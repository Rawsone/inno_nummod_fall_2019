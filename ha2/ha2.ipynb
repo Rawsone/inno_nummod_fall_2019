{
 "cells": [
  {
   "cell_type": "code",
   "execution_count": null,
   "metadata": {},
   "outputs": [],
   "source": [
    "import sympy as sp\n",
    "import numpy as np\n",
    "import matplotlib.pyplot as plt"
   ]
  },
  {
   "cell_type": "markdown",
   "metadata": {},
   "source": [
    "### 1. Formulate the statement of the interpolation problem with Cubic Spline [mathematical formula]"
   ]
  },
  {
   "cell_type": "markdown",
   "metadata": {},
   "source": [
    "Interpolation problem is to find polynomials that will have 2nd derivatives in union:\n",
    "\n",
    "$S_3(x) = \\bigcup_{i=0}^{n-1}S_{3,i}(x) \\in C^2[a, b]$, where $a = x_0$ and $b = x_n$\n",
    "\n",
    "Given a set of $n + 1$ data points ($x_i,y_i$) where $x_0<x_1<\\cdots<x_n$\n",
    "\n",
    "The spline $S_3(x)$ is a function satisfying, that on each subinterval $[x_{i-1},x_{i}], S_3(x)$ is a polynomial of degree 3, where $i=1,\\cdots,n.$\n",
    "And $S(x_i)=y_i,$ for all $i=0,1,\\cdots,n.$ Formula:\n",
    "\n",
    "$S_3(x)=\\left\\{\\begin{array}{rl}\n",
    "C_1(x), & x_0 \\leq x \\leq x_1\\\\\n",
    "\\cdots &\\\\\n",
    "C_i(x), & x_{i-1} < x \\leq x_i\\\\\n",
    "\\cdots &\\\\\n",
    "C_n(x), & x_{n-1} < x \\leq x_n\\end{array}\\right.$\n",
    "\n",
    "where each $C_i=a_{0, i}+a_{1, i}x+a_{2, i}x^2+a_{3, i}x^3 $ is a cubic function (polynomial), $i=1,\\cdots,n$."
   ]
  },
  {
   "cell_type": "markdown",
   "metadata": {},
   "source": [
    "### 2. Formulate the functional and differential compatibility conditions [mathematical formula]"
   ]
  },
  {
   "cell_type": "markdown",
   "metadata": {},
   "source": [
    "**Functional compatibility condition:**\n",
    "\n",
    "$\\delta S_{3, i}(x_i) = S_{3, i}(x)|_{x=x_i} - f(x)|_{x=x_i} = 0, \\quad i = \\overline{0, n}$\n",
    "\n",
    "  \n",
    "**Differential (2nd derivative) compatibility conditions:**\n",
    "\n",
    "$\\delta S^{(2)}_{3, i}(x_j) = S^{(2)}_{3, i}(x)|_{x=x_i} - f^{(2)}(x)|_{x=x_i} = 0, \\quad i = \\overline{0, n}$\n",
    "    "
   ]
  },
  {
   "cell_type": "markdown",
   "metadata": {},
   "source": [
    "### 3. Formulate stitching conditions [mathematical formula]"
   ]
  },
  {
   "cell_type": "markdown",
   "metadata": {},
   "source": [
    "$S_{3, i-1}(x)|_{x=x_i} = S_{3, i}(x)|_{x=x_i},\\quad i = \\overline{1, n-1}$\n"
   ]
  },
  {
   "cell_type": "markdown",
   "metadata": {},
   "source": [
    "### 4. Justify why these conditions provide you with the required smoothness [thesis text, no more than 500 characters]"
   ]
  },
  {
   "cell_type": "markdown",
   "metadata": {},
   "source": [
    "Functional compatibility condition ensures that the resulting function solves the interpolation problem.\n",
    "Since splines are cubic polynomials they are continuous on interval $(x_i, x_{i+1})$.\n",
    "Solving the problem with some condition ensures that resulting coeficients are consistant with this condition. So, applying fucntion compatability condition makes our approximating function continuous at the points $x_i$ and $x_{i+1}$. Therefore our approximating function is continuous on the segment $[x_0, x_{n}]$\n",
    "\n",
    "Differential compatibility condition for 2nd derivative, by analogy, makes 2nd derivative of our approximating function continuous at the points $x_i$ and $x_{i+1}$, except $x_0$ and $x_n$, because we artificially define them.\n",
    "Therefore 2nd derivative of our approximating function is continuous on the interval $(x_0, x_{n})$\n",
    "\n",
    "Stitching conditions ensure that the 1st derivative of the approximating function is continuous on $(x_0, x_n)$"
   ]
  },
  {
   "cell_type": "markdown",
   "metadata": {},
   "source": [
    "### 5. Derive dependency formula: the dependence of the second derivatives at the grid nodes on the increment of the function (the function values difference on the grid nodes). [Mathematical formulas derivation. Detailed, with clear transitions]"
   ]
  },
  {
   "cell_type": "markdown",
   "metadata": {},
   "source": [
    "Each spline polynomial has form:\n",
    "\n",
    "$S_{3, i} = a_{0, i} + a_{1, i}(x - x_{i}) + a_{2, i}(x - x_{i})^{2} + a_{3, i}(x - x_{i})^{3}$\n",
    "\n",
    "Compatibility conditions applied to the ends of this segment:\n",
    "\n",
    "$\\left\\{\\begin{array}\\\\\n",
    "&S_{3, i}(x)|_{x=x_{i}} = f(x_{i})\\\\ \n",
    "&S_{3, i}(x)|_{x=x_{i+1}} = f(x_{i+1})\\\\ \n",
    "&S^{(2)}_{3, i}(x)|_{x=x_{i}} = f^{(2)}(x_{i})\\\\ \n",
    "&S^{(2)}_{3, i}(x)|_{x=x_{i+1}} = f^{(2)}(x_{i+1})\\end{array}\\right.$\n",
    "\n",
    "For $i = \\overline{0, n-1}, \\quad x \\in [x_{i}, x_{i+1}]$\n",
    "\n",
    "<br />\n",
    "\n",
    "$\\left\\{\\begin{array}\\\\\n",
    "a_{0, i} + a_{1, i}(x_{i} - x_{i}) + a_{2, i}(x_{i} - x_{i})^{2} + a_{3, i}(x_{i} - x_{i})^{3} = f(x_{i})\\\\ \n",
    "a_{0, i} + a_{1, i}(x_{i+1} - x_{i}) + a_{2, i}(x_{i+1} - x_{i})^{2} + a_{3, i}(x_{i+1} - x_{i})^{3} = f(x_{i+1})\\\\ \n",
    "2a_{2,i} + 6a_{3,i}(x_{i}-x_{i}) =f^{(2)}(x_{i})\\\\ \n",
    "2a_{2,i} + 6a_{3,i}(x_{i+1}-x_{i}) = f^{(2)}(x_{i+1})\\end{array}\\right.$\n",
    "\n",
    "$\\implies$\n",
    " \n",
    "$\\left\\{\\begin{array}\\\\\n",
    "a_{0, i} = f_{i}\\\\ \n",
    "a_{0, i} + a_{1, i}h_{i+1} + a_{2, i}h_{i+1}^{2} + a_{3, i}h_{i+1}^{3} = f_{i+1}\\\\ \n",
    "2a_{2,i} = m_{i}\\\\ \n",
    "2a_{2,i} + 6a_{3,i}h_{i+1} = m_{i+1}\\end{array}\\right.$\n",
    "\n",
    "where $f_i = f(x_i)$, $m_i = f^{(2)}$, $ h_{i+1} = x_{i+1}-x_{i}$ \n",
    "\n",
    "<br />\n",
    "\n",
    "Expressing a's in terms of m's and substituting back to polynomial formula of $S_{3, i}$, we get:\n",
    "\n",
    "$S_{3, i}(x) = f_{i} + (\\frac{\\Delta f_{i}}{h_{i+1}} - \\frac{h_{i+1}}{2}m_{i} - \\frac{h_{i+1}}{6}\\Delta m_{i})(x-x_{i}) + \\frac{m_{i}}{2}(x-x_{i})^{2} + \\frac{1}{6h_{i+1}}\\Delta m_{i}(x-x_{i})^{3}, \\quad i = \\overline{0, n-1}$,\n",
    "\n",
    "where $\\Delta f_{i} = f_{i+1} - f_{i}$, $\\Delta m_{i} = m_{i+1} - m_{i}$.\n",
    "\n",
    "Now we need $n+1$ equations to find values of m's.\n",
    "\n",
    "We have $n$ splines and $n-1$ inner points, so we can obtain $n-1$ equations from stitching conditions:\n",
    "\n",
    "$\\left\\{\\begin{array}\\\\\n",
    "S'_{3, 0}(x)|_{x=x_{1}} = S'_{3, 1}(x)|_{x=x_{1}}\\\\ \n",
    "S'_{3, 1}(x)|_{x=x_{2}} = S'_{3, 1}(x)|_{x=x_{2}}\\\\ \n",
    ". . . \\\\\n",
    "S'_{3, n-2}(x)|_{x=x_{n-1}} = S'_{3, n-1}(x)|_{x=x_{n-1}}\\\\ \n",
    "\\end{array}\\right.$\n",
    "\n",
    "From $i$'th equation, we have:\n",
    "\n",
    "$\\frac{\\Delta f_{i-1}}{h_{i}} - \\frac{h_{i}m_{i-1}}{2}-\\frac{h_{i}\\Delta m_{i-1}}{6} + m_{i-1}h_{i} + \\frac{\\Delta m_{i-1}}{2h_{i}}h_{i}^{2} = \\frac{\\Delta f_{i}}{h_{i+1}} - \\frac{h_{i+1}m_{i}}{2} - \\frac{h_{i+1}\\Delta m_{i}}{6}$\n",
    "\n",
    "$\\implies$\n",
    "\n",
    "$\\frac{h_{i}}{6}m_{i-1} + \\frac{h_{i} + h_{i+1}}{3}m_{i} + \\frac{h_{i+1}}{6}m_{i+1} = \\frac{\\Delta f_{i}}{h_{i+1}} - \\frac{\\Delta f_{i-1}}{h_{i}}, \\quad i = \\overline{1,n-1}$."
   ]
  },
  {
   "cell_type": "markdown",
   "metadata": {},
   "source": [
    "### 6. Create a system of equations using this formula [Matrix representation. Mathematical formulas]"
   ]
  },
  {
   "cell_type": "markdown",
   "metadata": {},
   "source": [
    "$\\begin{pmatrix}\n",
    "\\frac{h_{1}}{6} & \\frac{h_{1} + h_{2}}{3} & \\frac{h_{2}}{6} &  0 & ... & ...\\\\ \n",
    " 0 & \\frac{h_{2}}{6}& \\frac{h_{2} + h_{3}}{3} & \\frac{h_{3}}{6} & 0 & ...\\\\ \n",
    " ... & ... & ... & ... & ... & ...\\\\ \n",
    " ... & 0 & \\frac{h_{n-2}}{6} & \\frac{h_{n-2} + h_{n-1}}{3} & \\frac{h_{n-1}}{6} & 0\\\\\n",
    "... & ...  & 0 & \\frac{h_{n-1}}{6} & \\frac{h_{n-1} + h_{n}}{3} & \\frac{h_{n}}{6}\\\\\n",
    "\\end{pmatrix}$ $\\begin{pmatrix}\n",
    "m_{0}\\\\ \n",
    "m_{1}\\\\ \n",
    "...\\\\ \n",
    "...\\\\ \n",
    "m_{n-1}\\\\ \n",
    "m_{n} \\\\\n",
    "\\end{pmatrix}$ = $\\begin{pmatrix}\n",
    "\\frac{\\Delta f_{1}}{h_{2}} - \\frac{\\Delta f_{0}}{h_{1}}\\\\ \n",
    "\\frac{\\Delta f_{2}}{h_{3}} - \\frac{\\Delta f_{1}}{h_{2}}\\\\ \n",
    "...\\\\ \n",
    "...\\\\ \n",
    "\\frac{\\Delta f_{n-2}}{h_{n-1}} - \\frac{\\Delta f_{n-3}}{h_{n-2}}\\\\ \n",
    "\\frac{\\Delta f_{n-1}}{h_{n}} - \\frac{\\Delta f_{n-2}}{h_{n-1}} \\\\\n",
    "\\end{pmatrix}$"
   ]
  },
  {
   "cell_type": "markdown",
   "metadata": {},
   "source": [
    "### 7. Explain what is an unknown variable in this system. whether the system is closed with respect to an unknown variable. What is missing for closure. [Text, no more than 200 characters]"
   ]
  },
  {
   "cell_type": "markdown",
   "metadata": {},
   "source": [
    "There are $n+1$ unknown m's and $n-1$ equations. Hence the system is not closed.\n",
    "We need 2 more equations to get exact solution.\n",
    "For example, we can set $m_{0} = m_{n} = 0$."
   ]
  },
  {
   "cell_type": "markdown",
   "metadata": {},
   "source": [
    "### 8. Bring this matrix to the appropriate form to use the Tridiagonal matrix algorithm [Mathematical derivation. Use Gauss Elimination]"
   ]
  },
  {
   "cell_type": "markdown",
   "metadata": {},
   "source": [
    "$\\begin{pmatrix}\n",
    "-b_{1} & c_{1} &  0 & ... & ...\\\\ \n",
    "a_{1} & -b_{2} & c_{2} & 0 & ...\\\\ \n",
    " ... & ... & ... & ... & ... \\\\ \n",
    " ... & 0 & a_{n-1} & -b_{n-1} & c_{n}\\\\\n",
    "... & ...  & 0 & a_{n} & -b_{n}\\\\\n",
    "\\end{pmatrix} \\bar{x} = \\begin{pmatrix}\n",
    "d_{1}\\\\ \n",
    "d_{2}\\\\ \n",
    "...\\\\ \n",
    "d_{n-1}\\\\ \n",
    "d_{n}\\\\\n",
    "\\end{pmatrix}$\n",
    "\n",
    "Divide first row by $-b_{1}$ and set $P_{1} = \\frac{c_{1}}{b_{1}}$, $Q_{1} = -\\frac{d_{1}}{b_{1}}$:\n",
    "\n",
    "$\\begin{pmatrix}\n",
    "1 & -P_{1} &  0 & ... & ...\\\\ \n",
    "a_{1} & -b_{2} & c_{2} & 0 & ...\\\\ \n",
    " ... & ... & ... & ... & ... \\\\ \n",
    " ... & 0 & a_{n-1} & -b_{n-1} & c_{n}\\\\\n",
    "... & ...  & 0 & a_{n} & -b_{n}\\\\\n",
    "\\end{pmatrix} \\bar{x} = \\begin{pmatrix}\n",
    "Q_{1}\\\\ \n",
    "d_{2}\\\\ \n",
    "...\\\\ \n",
    "d_{n-1}\\\\ \n",
    "d_{n}\\\\\n",
    "\\end{pmatrix}$\n",
    "\n",
    "Multiply first row by $a_{1}$ and subtract it from second row. Divide second row by $-b_{2} + a_{2}P_{1}$\n",
    "and set $P_{2} = -\\frac{c_{2}}{a_{2}P_{1} -b_{2}}$, $Q_{2} = \\frac{d_{2} - a_{2}Q_{1}}{a_{2}P_{1} -b_{2}}$:\n",
    "\n",
    "$\\begin{pmatrix}\n",
    "1 & -P_{1} &  0 & ... & ...\\\\ \n",
    "0 & 1 & -P_{2} & 0 & ...\\\\ \n",
    " ... & ... & ... & ... & ... \\\\ \n",
    " ... & 0 & a_{n-1} & -b_{n-1} & c_{n}\\\\\n",
    "... & ...  & 0 & a_{n} & -b_{n}\\\\\n",
    "\\end{pmatrix} \\bar{x} = \\begin{pmatrix}\n",
    "Q_{1}\\\\ \n",
    "Q_{2}\\\\ \n",
    "...\\\\ \n",
    "d_{n-1}\\\\ \n",
    "d_{n}\\\\\n",
    "\\end{pmatrix}$\n",
    "\n",
    "Process equivalent steps for each equation:\n",
    "\n",
    "$\\begin{pmatrix}\n",
    "1 & -P_{1} &  0 & ... & ...\\\\ \n",
    "0 & 1 & -P_{2} & 0 & ...\\\\ \n",
    " ... & ... & ... & ... & ... \\\\ \n",
    " ... & 0 & 1 & -P_{n-1} & 0\\\\\n",
    "... & ...  & 0 & 1 & -P_{n}\\\\\n",
    "\\end{pmatrix} \\bar{x} = \\begin{pmatrix}\n",
    "Q_{1}\\\\ \n",
    "Q_{2}\\\\ \n",
    "...\\\\ \n",
    "Q_{n-1}\\\\ \n",
    "Q_{n}\\\\\n",
    "\\end{pmatrix}$\n",
    "\n",
    "where $P_{i-1} = -\\frac{c_{i-1}}{a_{i-1}P_{i-2} + b_{i-1}}$, $Q_{i-1} = \\frac{d_{i-1} - a_{i-1}Q_{i-2}}{a_{i-1}P_{i-2} - b_{i-1}}, \\quad i = \\overline{2, n}.$"
   ]
  },
  {
   "cell_type": "markdown",
   "metadata": {},
   "source": [
    "### 9. Derive formulas of direct pass and reverse pass of Tridiagonal matrix algorithm [Mathematical formals]"
   ]
  },
  {
   "cell_type": "markdown",
   "metadata": {},
   "source": [
    "Formulas for direct pass ($P_{i-1}$ and $Q_{i-1}$) are derived in the previous step.\n",
    "\n",
    "Formulas for reverse pass are recursive equations for $x_i$ can be easy derived from each matrix row independently: $x_{i-1} = P_{i-1}x_{i} + Q_{i-1}$"
   ]
  },
  {
   "cell_type": "markdown",
   "metadata": {},
   "source": [
    "### 10. Implement code prototype of the future algorithm implementation. Classes/methods (if you use OOP), functions. The final implementation (on language chosen by you) should not differ from the functions declared in the prototype. [Python code]"
   ]
  },
  {
   "cell_type": "code",
   "execution_count": 22,
   "metadata": {},
   "outputs": [
    {
     "name": "stdout",
     "output_type": "stream",
     "text": [
      "[-3.  1.  5. -8.]\n"
     ]
    }
   ],
   "source": [
    "import numpy as np\n",
    "\n",
    "def tridiagonal_algorithm(A, d):\n",
    "    '''\n",
    "    Solves the equation Ax = d, where\n",
    "\n",
    "    A is a tridiagonal matrix\n",
    "    d is a vector of the right hand side\n",
    "\n",
    "    x is a vector of unknown variables\n",
    "\n",
    "    '''\n",
    "    n = len(d)\n",
    " \n",
    "  # Forward pass \n",
    "  # We need to calculate P-s and Q-s\n",
    "    Ps = np.zeros(n-1)\n",
    "    Qs = np.zeros(n-1)\n",
    "    Ps[0] = A[0][1] / -A[0][0]\n",
    "    Qs[0] = d[0] / A[0][0]\n",
    "    for i in range(1, n-1):\n",
    "        a_i = A[i][i-1]\n",
    "        b_i = -A[i][i]\n",
    "        c_i = A[i][i+1]\n",
    "        d_i = d[i]\n",
    "        Ps[i] = c_i / (-a_i*Ps[i-1] + b_i)\n",
    "        Qs[i] = (-d_i + a_i*Qs[i-1]) / (-a_i*Ps[i-1] + b_i)\n",
    "  \n",
    "    x = np.zeros(n)\n",
    "\n",
    "    x[n-1] = (d[n-1] - A[n-1][n-2] * Qs[n-2]) / (A[n-1][n-2] * Ps[n-2] + A[n-1][n-1])\n",
    "\n",
    "    for i in range(n-2, -1, -1):\n",
    "        x[i] = x[i+1] * Ps[i] + Qs[i]\n",
    "  \n",
    "    return x\n",
    "\n",
    "A = np.array([[2, 1, 0, 0], [1, 10, -5, 0], [0, 1, -5, 2], [0, 0, 1, 4]])\n",
    "d = np.transpose(np.array([[-5, -18, -40, -27]]))\n",
    "\n",
    "x = tridiagonal_algorithm(A, d)\n",
    "print(x)\n"
   ]
  },
  {
   "cell_type": "markdown",
   "metadata": {},
   "source": [
    "### 11. Derive formula of Cubic Spline method error [Mathematical formulas]"
   ]
  },
  {
   "cell_type": "markdown",
   "metadata": {},
   "source": [
    "Доказано, что на равномерной сетке сплайн-функция $S_{3, i}$ сходится к $f(x) \\in C_{4}[a, b]$ с четвертым порядком, причем справедливы оценки \n",
    "\n",
    "$||f^{(p)}(x) - S^{(p)} _{3}(x)||_{C[a, b]} = \\max _{[a, b]} |f^{(p)}(x) - S^{(p)} _{3}(x)| \\leq M_{4}h^{4-p}$, $p = 0, 1, 2.$ $(4.78)$\n",
    "\n",
    "Where $M_4 = \\max_{[a,b]}|f^{(4)}(x)|$.\n",
    "\n",
    "(На неравномерной сетке $||f^{(p)}(x) - S^{(p)} _{3}(x)||_{C[a, b]} \\leq M_{4}h_{max}^{4-p}$, где $h_{max} = \\max _{1 \\leq i \\leq n}h_{i}$.) \n",
    "\n",
    "(Численные методы в примерах и задачах. В.И. Киреев, А.В. Пантелеев)"
   ]
  },
  {
   "cell_type": "markdown",
   "metadata": {},
   "source": [
    "### 12. Rate the complexity of the algorithm [Text, and rate in terms of big O, no more than 100 characters]"
   ]
  },
  {
   "cell_type": "markdown",
   "metadata": {},
   "source": [
    "Forward pass is $O(n)$, reverse pass is $O(n)$, so total complexity of the algorithm is $O(2n)$ or, equivalent, $O(n)$."
   ]
  },
  {
   "cell_type": "markdown",
   "metadata": {},
   "source": [
    "### Congrats!"
   ]
  }
 ],
 "metadata": {
  "kernelspec": {
   "display_name": "Python 3",
   "language": "python",
   "name": "python3"
  },
  "language_info": {
   "codemirror_mode": {
    "name": "ipython",
    "version": 3
   },
   "file_extension": ".py",
   "mimetype": "text/x-python",
   "name": "python",
   "nbconvert_exporter": "python",
   "pygments_lexer": "ipython3",
   "version": "3.7.2"
  }
 },
 "nbformat": 4,
 "nbformat_minor": 2
}
