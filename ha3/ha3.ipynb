{
 "cells": [
  {
   "cell_type": "code",
   "execution_count": 1,
   "metadata": {},
   "outputs": [],
   "source": [
    "import sympy as sp\n",
    "import numpy as np\n",
    "import matplotlib.pyplot as plt"
   ]
  },
  {
   "cell_type": "markdown",
   "metadata": {},
   "source": [
    "### 1. Derive formula of $L_{2}(x)$ in terms of interpolation phase $ u = \\frac{x - x_{i}}{h} $.  Integrate $ \\hat{I_{i}^{i+2}}$ with received formula as integrand  [mathematical formula]. Usetimation time: ~30m"
   ]
  },
  {
   "cell_type": "markdown",
   "metadata": {},
   "source": [
    "**Note** Use constant step $h = const$ and condition *number of segments is even* $n = 2k$"
   ]
  },
  {
   "cell_type": "markdown",
   "metadata": {},
   "source": [
    "$h = const$ and condition *number of segments is even* $n = 2k$\n",
    "\n",
    "Let's write 3rd degree polynomial in a Lagrange form:\n",
    "\n",
    "$$L_2(x) = \\frac{x - x_{i}}{x_{i-1} - x_{i}} \\frac{x - x_{i+1}}{x_{i-1} - x_{i+1}}f_{i-1} + \n",
    "           \\frac{x - x_{i-1}}{x_{i} - x_{i-1}} \\frac{x - x_{i+1}}{x_{i} - x_{i+1}}f_{i} + \n",
    "           \\frac{x - x_{i-1}}{x_{i+1} - x_{i-1}} \\frac{x - x_{i}}{x_{i+1} - x_{i}}f_{i+1}$$\n",
    "           \n",
    "Rewrite first coefficient as follows:\n",
    "$\\frac{(x-x_{i+1})(x-x_{i+2})}{(x_{i}-x_{i+1})(x_{i}-x_{i+2})} = \\frac{((x-x_{i})-(x_{i+1}-x_{i}))((x-x_{i})-(x_{i+2}-x_{i}))}{(-h)(-2h)} = \\frac{(uh-h)(uh-2h)}{2h^{2}} = \\frac{(u-1)(u-2)}{2},$ $\\quad$\n",
    "where $u = \\frac{x-x_{i-1}}{h}, \\quad h = x_{i} - x_{i-1}$\n",
    "\n",
    "By analogy, 2 others coefficients can be rewrited as follows:\n",
    "$L_{2}(x) = \\frac{(u-1)(u-2)}{2}f_{1} - u(u-2)f_{i+1} + \\frac{u(u-1)}{2}f_{i+2}$\n",
    "\n",
    "Now, integrate $\\hat{I}_{i-1}^{i+1}$: \n",
    "\n",
    "\n",
    "$\\hat{I}_{i}^{i+2} = \\int_{x_i}^{x_{i+2}}L_2(x)dx = \\int_{x_{i}}^{x_{i+2}}(\\frac{(u-1)(u-2)}{2}f_{i} - u(u-2)f_{i+1} + \\frac{u(u-1)}{2}f_{i+2})hdx = \n",
    "\\int_{0}^{2}(\\frac{u^{2} - 3u + 2}{2}f_{1} - (u^{2}-2u)f_{i+1} + \\frac{u^{2} - u}{2}f_{i+2})hdu =\n",
    "h((8/6 - 12/4 + 2)f_{i} - (8/3 - 4)f_{i+1} + (8/6 - 4/4)f_{i+2}) =\n",
    "\\frac{h}{3}(f_{i} + 4f_{i+1} + f_{i+2})$"
   ]
  },
  {
   "cell_type": "markdown",
   "metadata": {},
   "source": [
    "### 2. Explain how used condition $n = 2k$ helps us in integration. If we want to use odd number of segments we have to integrate with even number of segments but add the value $I_{n-1}^n$. What is the calculation accuracy order of $I_{n-1}^n$? Why? Explain both. [mathematical formula]. Usetimation time: ~30m"
   ]
  },
  {
   "cell_type": "markdown",
   "metadata": {},
   "source": [
    "When number of intervals is even, we can use a parabola quadrature formula (three-point template) for each pair of segments on our interval. \n",
    "\n",
    "If this number were odd, we would have to use an four-points template on last 4 points.\n",
    "Then, calculation accuracy for $\\hat{I}_{n - 1}^{n}$ is $O(h^{5})$.\n",
    "\n",
    "This is because we find last segment as follows: $\\hat{I}_{x_{n-1}}^{x_{n}} = \\hat{I}_{x_{n-3}}^{x_{n}} - \\hat{I}_{x_{n-3}}^{x_{n-1}}$. \n",
    "Both values on the right-hand side have orders of accuracy of $O(h^{5})$\n",
    "First is the Newton-Kotes formula and the second is just the parabola quadrature formula.\n",
    "\n",
    "Therefore calculation accuracy order of $\\hat{I}_{x_{n-1}}^{x_{n}}$ will be $O(h^5)$, too."
   ]
  },
  {
   "cell_type": "markdown",
   "metadata": {},
   "source": [
    "### 3. Derive the formula of whole $\\hat{I_{a}^{b}}$. Summarize all integrals on segments $\\hat{I_{i}^{i+1}}$ for even case, and for odd case. [mathematical formula]. Usetimation time: ~30m"
   ]
  },
  {
   "cell_type": "markdown",
   "metadata": {},
   "source": [
    "Even number of segments:\n",
    "\n",
    "$\\hat{I}_a^b = \\sum_{i=0}^{k-1} \\frac{h}{3} (f_{2i} + 4f_{2i+1} + f_{2i+2}) =\n",
    "  \\frac{h}{3} (\\sum_{i=0}^{k-1} f_{2i} + 4\\sum_{i=0}^{k-1} f_{2i+1} + \\sum_{i=0}^{k-1} f_{2i+2}) =\n",
    "  \\frac{h}{3} (f_0 + 2\\sum_{i=1}^{k-1} f_{2i} + 4\\sum_{i=0}^{k-1} f_{2i+1}+ f_{2k})$\n",
    "  \n",
    "Odd number of segments:\n",
    "\n",
    "$\\hat{I}^a_b=\\hat{I}^{b}_{x_{n-1}}+\\hat{I}^{x_{n-1}}_a = \\frac{h}{3} (f_0 + 2\\sum_{i=1}^{k-1} f_{2i} + 4\\sum_{i=0}^{k-1} f_{2i+1}+ f_{2k}) + \\frac{h}{24}(f_{n-3}-5f_{n-2} + 19f_{n-1}+9f_{n})$"
   ]
  },
  {
   "cell_type": "markdown",
   "metadata": {},
   "source": [
    "### 4. Derive the formula of trapezoid quadrature formula error estimation. Use Taylor series expansion for antiderivative $F_{i+1}$ and $f_{i+1}$  [mathematical formula] Usetimation time: ~30m"
   ]
  },
  {
   "cell_type": "markdown",
   "metadata": {},
   "source": [
    "By Taylor series expansion:\n",
    "\n",
    "$F(x_{i+1})$ near $x_{i}$ is $F(x_{i}) + f(x_{i})h + \\frac{f'(x_{i})}{2}h^2 + \\frac{f''(x_{i})}{6}h^{3}$ \n",
    "\n",
    "and $f(x_{i+1})$ near the same point is $f(x_{i}) + f'(x_{i})h + \\frac{f''(x_{i})}{2}h^2$\n",
    "\n",
    "\n",
    "Error on an segment $[x_{i}, x_{i+1}]$ is $I_{x_{i}}^{x_{i+1}} - \\hat{I}_{x_{i}}^{x_{i+1}} =\n",
    "F(x_{i+1}) - F(x_{i}) - \\frac{h}{2}(f_{i}+f_{i+1})\\\\ \n",
    "= F(x_{i}) + f(x_{i})h + \\frac{f'(x_{i})}{2}h^2 + \\frac{f''(\\xi_{i})}{6}h^{3} - F({x_{i}}) - \\frac{h}{2}(f(x_{i}) + f(x_{i}) + f'(x_{i})h + \\frac{f''(\\xi_{i})}{2}h^2) = -\\frac{h^{3}}{12}f''({\\xi_{i}})$\n",
    "\n",
    "where $\\xi_{i}$ is a point on $(x_{i}, x_{i+1})$.\n",
    "\n",
    "So, we have $O(h^3)$ error on a segment $[x_{i}, x_{i+1}]$.\n",
    "\n",
    "Now, let's find error on the whole $[a, b]$. Sum up all segments $[x_{i}, x_{i+1}]$:\n",
    "\n",
    "$I_{a}^{b} - \\hat{I}_{a}^{b} = -\\frac{h^{3}}{12}(f''(\\xi_{0}) + f''(\\xi_{1}) + ...+ f''(\\xi_{n-2}) +  f''(\\xi_{n-1})) = -\\frac{h^{3}}{12}nf''({\\xi})$\n",
    "\n",
    "Substite $n = \\frac{b-a}{h}$, $M_{2} = \\max_{[a, b]}|f''(x)|$ we get the following inequality:\n",
    "$|I_{a}^{b} - \\hat{I}_{a}^{b}| \\leq \\frac{M_{2}}{12}(b-a)h^2$\n"
   ]
  },
  {
   "cell_type": "markdown",
   "metadata": {},
   "source": [
    "### Congrats!"
   ]
  }
 ],
 "metadata": {
  "kernelspec": {
   "display_name": "Python 3",
   "language": "python",
   "name": "python3"
  },
  "language_info": {
   "codemirror_mode": {
    "name": "ipython",
    "version": 3
   },
   "file_extension": ".py",
   "mimetype": "text/x-python",
   "name": "python",
   "nbconvert_exporter": "python",
   "pygments_lexer": "ipython3",
   "version": "3.7.2"
  }
 },
 "nbformat": 4,
 "nbformat_minor": 2
}
